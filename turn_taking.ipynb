{
 "metadata": {
  "name": "",
  "signature": "sha256:bce20a4e2c69d7b497a1e829680f5c68f66d6b1a9f0494115468e0d4ff2d85dc"
 },
 "nbformat": 3,
 "nbformat_minor": 0,
 "worksheets": [
  {
   "cells": [
    {
     "cell_type": "code",
     "collapsed": false,
     "input": [
      "n_ag = 3"
     ],
     "language": "python",
     "metadata": {},
     "outputs": [],
     "prompt_number": 1
    },
    {
     "cell_type": "code",
     "collapsed": false,
     "input": [
      "ag_voc_params = []\n",
      "for i in range(n_ag):\n",
      "    ag_voc_params.append((i, [- n_ag / 2. + i], [[0.01]])) \n",
      "# ag_voc_params = ((0, [-2.], [[0.01]]), (1, [0.], [[0.01]])) #, (2, [2.], [[0.01]]))"
     ],
     "language": "python",
     "metadata": {},
     "outputs": [],
     "prompt_number": 2
    },
    {
     "cell_type": "code",
     "collapsed": false,
     "input": [
      "from agent import ModularAgent"
     ],
     "language": "python",
     "metadata": {},
     "outputs": [],
     "prompt_number": 3
    },
    {
     "cell_type": "code",
     "collapsed": false,
     "input": [
      "agents = [ModularAgent(ag_voc_params, i) for i, _ in enumerate(ag_voc_params)]\n",
      "# agents = [Agent(voc[0], voc[1], voc[2], gmm) for voc in ag_voc_params]"
     ],
     "language": "python",
     "metadata": {},
     "outputs": [],
     "prompt_number": 4
    },
    {
     "cell_type": "code",
     "collapsed": false,
     "input": [
      "from experiment import Experiment"
     ],
     "language": "python",
     "metadata": {},
     "outputs": [],
     "prompt_number": 5
    },
    {
     "cell_type": "code",
     "collapsed": false,
     "input": [
      "expe = Experiment(agents)"
     ],
     "language": "python",
     "metadata": {},
     "outputs": [],
     "prompt_number": 6
    },
    {
     "cell_type": "code",
     "collapsed": false,
     "input": [
      "#import pdb\n",
      "#pdb.run(\"expe.run(40)\")\n",
      "expe.run(10000) #, bg=True)"
     ],
     "language": "python",
     "metadata": {},
     "outputs": [],
     "prompt_number": 7
    },
    {
     "cell_type": "code",
     "collapsed": false,
     "input": [
      "scale = 1.5\n",
      "params = {\n",
      "   'axes.labelsize': 10 * scale,\n",
      "   'text.fontsize': 10 * scale,\n",
      "   'legend.fontsize': 10 * scale,\n",
      "   'xtick.labelsize': 8 * scale,\n",
      "   'ytick.labelsize': 8 * scale,\n",
      "   'text.usetex': False,\n",
      "   'figure.figsize': [4.5, 4.5]\n",
      "   }\n",
      "rcParams.update(params)"
     ],
     "language": "python",
     "metadata": {},
     "outputs": [],
     "prompt_number": 14
    },
    {
     "cell_type": "code",
     "collapsed": false,
     "input": [
      "def runningMeanFast(x, N):\n",
      "    return np.convolve(x, np.ones((N,))/N)[(N-1):]"
     ],
     "language": "python",
     "metadata": {},
     "outputs": [],
     "prompt_number": 8
    },
    {
     "cell_type": "code",
     "collapsed": false,
     "input": [
      "%pylab inline\n",
      "figure(figsize=(15, 10))\n",
      "\n",
      "colors = ['r', 'g', 'b', 'm', 'c', 'k'] * 3\n",
      "n_runs = len(expe.log[0][\"motor\"])\n",
      "overlapping = [0, 0, 0]\n",
      "ag_legend = []\n",
      "end = n_runs  # 10040\n",
      "start = end - 100 # 10000\n",
      "print start, end\n",
      "for i in range(n_ag):\n",
      "    ag_legend.append(\"Agent \" + str(i+1))\n",
      "for t in range(start, end): #range(n_runs - 40, n_runs):\n",
      "    if t >= 0:\n",
      "        for i_ag in range(n_ag):\n",
      "            subplot(411)\n",
      "            plot(t, expe.log[i_ag]['motor'][t], 'o', color=colors[i_ag])\n",
      "            ylabel(\"Acoustic feature\")\n",
      "            legend(ag_legend)\n",
      "            axis([start, end, -3, 2])\n",
      "            subplot(412)\n",
      "            plot(t, expe.log[i_ag]['presence'][t][i_ag], 'o', color=colors[i_ag])\n",
      "            ylabel(\"Presence estimation\")\n",
      "            axis([start, end, 0, 1])\n",
      "            # plot(expe.log[i_ag]['presence'][t][0], expe.log[i_ag]['presence'][t][1], 'o', color=colors[i_ag])\n",
      "            #axis([0, 1, 0, 1])\n",
      "            #axis('equal')\n",
      "            subplot(413)\n",
      "            plot(t, expe.log[i_ag]['td_error'][t], 'o', color='k')\n",
      "            plot(t, expe.log[i_ag]['activation'][t], 'o', color=colors[i_ag])\n",
      "            \n",
      "            xlabel(\"Time\")\n",
      "            ylabel(\"Motor activation\")\n",
      "            axis([start, end, -1, 1])\n",
      "subplot(414)\n",
      "bounds = [0, n_runs]\n",
      "win = 1000\n",
      "plot(runningMeanFast(expe.log[0]['reward'][bounds[0]:bounds[1]], win) [:-win])\n",
      "axis(hstack((bounds, [0, 1])))\n",
      "            #if t > 200:\n",
      "            #    overlapping = sum([int(sum([int(expe.log[ii_ag]['motor'][t - 200 + tt] is not None) for ii_ag in range(n_ag)]) == 1) for tt in range(200)]) / 200.         \n",
      "            #    plot(t, overlapping, '*')\n",
      "        "
     ],
     "language": "python",
     "metadata": {},
     "outputs": [
      {
       "output_type": "stream",
       "stream": "stdout",
       "text": [
        "Populating the interactive namespace from numpy and matplotlib\n",
        "9900 10000\n"
       ]
      },
      {
       "metadata": {},
       "output_type": "pyout",
       "prompt_number": 9,
       "text": [
        "array([    0, 10000,     0,     1])"
       ]
      },
      {
       "metadata": {},
       "output_type": "display_data",
       "png": "[encoded data removed]",
       "text": [
        "<matplotlib.figure.Figure at 0x7fb7bb40ccd0>"
       ]
      }
     ],
     "prompt_number": 9
    },
    {
     "cell_type": "code",
     "collapsed": false,
     "input": [
      "ag = agents[1]\n",
      "state = ag.pres_estimator.presence\n",
      "activation = ag.decision_maker.decide(state)\n",
      "print state, activation"
     ],
     "language": "python",
     "metadata": {},
     "outputs": [
      {
       "output_type": "stream",
       "stream": "stdout",
       "text": [
        "[ 0.5  0.5] 0.0305454502084\n"
       ]
      }
     ],
     "prompt_number": 7
    },
    {
     "cell_type": "code",
     "collapsed": false,
     "input": [
      "len(expe.log[0]['reward'])"
     ],
     "language": "python",
     "metadata": {},
     "outputs": [
      {
       "metadata": {},
       "output_type": "pyout",
       "prompt_number": 15,
       "text": [
        "10000"
       ]
      }
     ],
     "prompt_number": 15
    },
    {
     "cell_type": "code",
     "collapsed": false,
     "input": [
      "start = 0\n",
      "end = n_runs\n",
      "\n",
      "class Sequence(object):\n",
      "    def __init__(self):\n",
      "        self.event = []\n",
      "        self.to_del = False\n",
      "        \n",
      "    def update(self, t, i_ag):\n",
      "        if len(self.event) == 3:\n",
      "            return\n",
      "        if self.event and t == self.event[-1]:\n",
      "            self.to_del = True\n",
      "        if not self.event:\n",
      "            if i_ag == 1:\n",
      "                self.event.append(t)\n",
      "            else:\n",
      "                self.to_del = True\n",
      "        elif len(self.event) == 1:\n",
      "            if i_ag == 0:\n",
      "                self.event.append(t)\n",
      "            else:\n",
      "                self.to_del = True\n",
      "        elif len(self.event) == 2:\n",
      "            if i_ag == 1:\n",
      "                self.event.append(t)\n",
      "                self.r = self.event[1] - self.event[0]\n",
      "                self.pr = self.event[2] - self.event[0]\n",
      "            else:\n",
      "                self.to_del = True\n",
      "                \n",
      "class SequenceSelfVsOther(Sequence):\n",
      "    def __init__(self):\n",
      "        self.event = []\n",
      "        self.full = False\n",
      "        self.to_del = False\n",
      "    \n",
      "    def update(self, t, i_ag):\n",
      "        if self.full:\n",
      "            return\n",
      "        if self.event and t == self.event[-1]:\n",
      "            self.to_del = True        \n",
      "        if not self.event:\n",
      "            if i_ag == 1:\n",
      "                self.event.append(t)\n",
      "            #else:\n",
      "            #    self.to_del = True\n",
      "        else:\n",
      "            if i_ag == 1:\n",
      "                self.event.append(t)\n",
      "                self.type = 'self'\n",
      "            else:\n",
      "                self.event.append(t)\n",
      "                self.type = 'other'\n",
      "            self.interval = self.event[1] - self.event[0]\n",
      "            self.full = True"
     ],
     "language": "python",
     "metadata": {},
     "outputs": [],
     "prompt_number": 25
    },
    {
     "cell_type": "code",
     "collapsed": false,
     "input": [
      "sequences = []\n",
      "for t in range(start, end):\n",
      "    sequences = [seq for seq in sequences if not seq.to_del]\n",
      "    if expe.log[0]['motor'][t] is not None and expe.log[1]['motor'][t] is not None:\n",
      "        sequences = [seq for seq in sequences if seq.full]\n",
      "        continue    \n",
      "    if expe.log[0]['motor'][t] is not None:\n",
      "        for seq in sequences:\n",
      "            seq.update(t, 0)\n",
      "    if expe.log[1]['motor'][t] is not None:\n",
      "        sequences.append(SequenceSelfVsOther())\n",
      "        for seq in sequences:\n",
      "            seq.update(t, 1)        \n",
      "    \n",
      "sequences = [seq for seq in sequences if seq.full]      "
     ],
     "language": "python",
     "metadata": {},
     "outputs": [],
     "prompt_number": 28
    },
    {
     "cell_type": "code",
     "collapsed": false,
     "input": [
      "sequences = []\n",
      "for t in range(start, end):\n",
      "    sequences = [seq for seq in sequences if not seq.to_del]\n",
      "    if expe.log[0]['motor'][t] is not None:\n",
      "        for seq in sequences:\n",
      "            seq.update(t, 0)\n",
      "    if expe.log[1]['motor'][t] is not None:\n",
      "        sequences.append(Sequence())\n",
      "        for seq in sequences:\n",
      "            seq.update(t, 1)        \n",
      "    \n",
      "sequences = [seq for seq in sequences if len(seq.event) == 3]      "
     ],
     "language": "python",
     "metadata": {},
     "outputs": [
      {
       "ename": "AttributeError",
       "evalue": "'Sequence' object has no attribute 'full'",
       "output_type": "pyerr",
       "traceback": [
        "\u001b[1;31m---------------------------------------------------------------------------\u001b[0m\n\u001b[1;31mAttributeError\u001b[0m                            Traceback (most recent call last)",
        "\u001b[1;32m<ipython-input-19-3a1c9e4ccf89>\u001b[0m in \u001b[0;36m<module>\u001b[1;34m()\u001b[0m\n\u001b[0;32m      3\u001b[0m     \u001b[0msequences\u001b[0m \u001b[1;33m=\u001b[0m \u001b[1;33m[\u001b[0m\u001b[0mseq\u001b[0m \u001b[1;32mfor\u001b[0m \u001b[0mseq\u001b[0m \u001b[1;32min\u001b[0m \u001b[0msequences\u001b[0m \u001b[1;32mif\u001b[0m \u001b[1;32mnot\u001b[0m \u001b[0mseq\u001b[0m\u001b[1;33m.\u001b[0m\u001b[0mto_del\u001b[0m\u001b[1;33m]\u001b[0m\u001b[1;33m\u001b[0m\u001b[0m\n\u001b[0;32m      4\u001b[0m     \u001b[1;32mif\u001b[0m \u001b[0mexpe\u001b[0m\u001b[1;33m.\u001b[0m\u001b[0mlog\u001b[0m\u001b[1;33m[\u001b[0m\u001b[1;36m0\u001b[0m\u001b[1;33m]\u001b[0m\u001b[1;33m[\u001b[0m\u001b[1;34m'motor'\u001b[0m\u001b[1;33m]\u001b[0m\u001b[1;33m[\u001b[0m\u001b[0mt\u001b[0m\u001b[1;33m]\u001b[0m \u001b[1;32mis\u001b[0m \u001b[1;32mnot\u001b[0m \u001b[0mNone\u001b[0m \u001b[1;32mand\u001b[0m \u001b[0mexpe\u001b[0m\u001b[1;33m.\u001b[0m\u001b[0mlog\u001b[0m\u001b[1;33m[\u001b[0m\u001b[1;36m1\u001b[0m\u001b[1;33m]\u001b[0m\u001b[1;33m[\u001b[0m\u001b[1;34m'motor'\u001b[0m\u001b[1;33m]\u001b[0m\u001b[1;33m[\u001b[0m\u001b[0mt\u001b[0m\u001b[1;33m]\u001b[0m \u001b[1;32mis\u001b[0m \u001b[1;32mnot\u001b[0m \u001b[0mNone\u001b[0m\u001b[1;33m:\u001b[0m\u001b[1;33m\u001b[0m\u001b[0m\n\u001b[1;32m----> 5\u001b[1;33m         \u001b[0msequences\u001b[0m \u001b[1;33m=\u001b[0m \u001b[1;33m[\u001b[0m\u001b[0mseq\u001b[0m \u001b[1;32mfor\u001b[0m \u001b[0mseq\u001b[0m \u001b[1;32min\u001b[0m \u001b[0msequences\u001b[0m \u001b[1;32mif\u001b[0m \u001b[0mseq\u001b[0m\u001b[1;33m.\u001b[0m\u001b[0mfull\u001b[0m\u001b[1;33m]\u001b[0m\u001b[1;33m\u001b[0m\u001b[0m\n\u001b[0m\u001b[0;32m      6\u001b[0m         \u001b[1;32mbreak\u001b[0m\u001b[1;33m\u001b[0m\u001b[0m\n\u001b[0;32m      7\u001b[0m     \u001b[1;32mif\u001b[0m \u001b[0mexpe\u001b[0m\u001b[1;33m.\u001b[0m\u001b[0mlog\u001b[0m\u001b[1;33m[\u001b[0m\u001b[1;36m0\u001b[0m\u001b[1;33m]\u001b[0m\u001b[1;33m[\u001b[0m\u001b[1;34m'motor'\u001b[0m\u001b[1;33m]\u001b[0m\u001b[1;33m[\u001b[0m\u001b[0mt\u001b[0m\u001b[1;33m]\u001b[0m \u001b[1;32mis\u001b[0m \u001b[1;32mnot\u001b[0m \u001b[0mNone\u001b[0m\u001b[1;33m:\u001b[0m\u001b[1;33m\u001b[0m\u001b[0m\n",
        "\u001b[1;31mAttributeError\u001b[0m: 'Sequence' object has no attribute 'full'"
       ]
      }
     ],
     "prompt_number": 19
    },
    {
     "cell_type": "code",
     "collapsed": false,
     "input": [
      "len(sequences)"
     ],
     "language": "python",
     "metadata": {},
     "outputs": [
      {
       "metadata": {},
       "output_type": "pyout",
       "prompt_number": 29,
       "text": [
        "68"
       ]
      }
     ],
     "prompt_number": 29
    },
    {
     "cell_type": "code",
     "collapsed": false,
     "input": [
      "[3][-1]"
     ],
     "language": "python",
     "metadata": {},
     "outputs": [
      {
       "metadata": {},
       "output_type": "pyout",
       "prompt_number": 33,
       "text": [
        "3"
       ]
      }
     ],
     "prompt_number": 33
    },
    {
     "cell_type": "code",
     "collapsed": false,
     "input": [
      "intervals_self = [seq.interval for seq in sequences if seq.type == 'self'] \n",
      "intervals_other = [seq.interval for seq in sequences if seq.type == 'other'] "
     ],
     "language": "python",
     "metadata": {},
     "outputs": [],
     "prompt_number": 30
    },
    {
     "cell_type": "code",
     "collapsed": false,
     "input": [
      "from collections import Counter\n",
      "\n",
      "for i, intervals in enumerate([intervals_self, intervals_other]):\n",
      "\n",
      "    labels, values = zip(*Counter(intervals).items())\n",
      "\n",
      "    indexes = np.arange(len(labels))\n",
      "    values = 100. * array(values) / sum(values)\n",
      "    width = 1\n",
      "    subplot(2, 1, i + 1)\n",
      "    bar(indexes, values, width)\n",
      "    #xticks(indexes + width * 0.5, labels)\n",
      "    axis([0, 10, 0, 100])\n"
     ],
     "language": "python",
     "metadata": {},
     "outputs": [
      {
       "metadata": {},
       "output_type": "display_data",
       "png": "[encoded data removed]",
       "text": [
        "<matplotlib.figure.Figure at 0x7ff483792750>"
       ]
      }
     ],
     "prompt_number": 17
    },
    {
     "cell_type": "code",
     "collapsed": false,
     "input": [
      "from collections import Counter\n",
      "\n",
      "for i, intervals in enumerate([intervals_self, intervals_other]):\n",
      "\n",
      "    labels, values = zip(*Counter(intervals).items())\n",
      "\n",
      "    indexes = np.arange(len(labels))\n",
      "    values = 100. * array(values) / sum(values)\n",
      "    width = 1\n",
      "    subplot(2, 1, i + 1)\n",
      "    bar(indexes, values, width)\n",
      "    xticks(indexes + width * 0.5, labels)\n",
      "    #axis([0, 10, 0, 100])"
     ],
     "language": "python",
     "metadata": {},
     "outputs": [
      {
       "metadata": {},
       "output_type": "display_data",
       "png": "[encoded data removed]",
       "text": [
        "<matplotlib.figure.Figure at 0x7f86ede84090>"
       ]
      }
     ],
     "prompt_number": 37
    },
    {
     "cell_type": "code",
     "collapsed": false,
     "input": [
      "labels"
     ],
     "language": "python",
     "metadata": {},
     "outputs": [
      {
       "metadata": {},
       "output_type": "pyout",
       "prompt_number": 36,
       "text": [
        "(5, 6, 7, 8, 9, 11, 13)"
       ]
      }
     ],
     "prompt_number": 36
    },
    {
     "cell_type": "code",
     "collapsed": false,
     "input": [
      "values"
     ],
     "language": "python",
     "metadata": {},
     "outputs": [
      {
       "metadata": {},
       "output_type": "pyout",
       "prompt_number": 18,
       "text": [
        "(134, 27, 7)"
       ]
      }
     ],
     "prompt_number": 18
    },
    {
     "cell_type": "code",
     "collapsed": false,
     "input": [
      "labels, values = zip(*Counter(intervals_other).items())\n",
      "\n",
      "indexes = np.arange(len(labels))\n",
      "width = 1\n",
      "\n",
      "bar(indexes, values, width)\n",
      "xticks(indexes + width * 0.5, labels)"
     ],
     "language": "python",
     "metadata": {},
     "outputs": [
      {
       "metadata": {},
       "output_type": "pyout",
       "prompt_number": 15,
       "text": [
        "([<matplotlib.axis.XTick at 0x7f311eec1dd0>,\n",
        "  <matplotlib.axis.XTick at 0x7f311dbc61d0>,\n",
        "  <matplotlib.axis.XTick at 0x7f311d9ad7d0>,\n",
        "  <matplotlib.axis.XTick at 0x7f311dc38890>,\n",
        "  <matplotlib.axis.XTick at 0x7f311dc3f8d0>],\n",
        " <a list of 5 Text xticklabel objects>)"
       ]
      },
      {
       "metadata": {},
       "output_type": "display_data",
       "png": "[encoded data removed]",
       "text": [
        "<matplotlib.figure.Figure at 0x7f311d9ad350>"
       ]
      }
     ],
     "prompt_number": 15
    },
    {
     "cell_type": "code",
     "collapsed": false,
     "input": [
      "sequences[0].__dict__"
     ],
     "language": "python",
     "metadata": {},
     "outputs": [
      {
       "metadata": {},
       "output_type": "pyout",
       "prompt_number": 18,
       "text": [
        "{'event': [2039, 2040, 2042], 'pr': 3, 'r': 1, 'to_del': False}"
       ]
      }
     ],
     "prompt_number": 18
    },
    {
     "cell_type": "code",
     "collapsed": false,
     "input": [
      "R = [seq.r for seq in sequences]\n",
      "PR = [seq.pr for seq in sequences]"
     ],
     "language": "python",
     "metadata": {},
     "outputs": [],
     "prompt_number": 19
    },
    {
     "cell_type": "code",
     "collapsed": false,
     "input": [
      "from explauto.utils.density_image import density_image\n",
      "di = density_image(R, PR, 16., 16., 4., 4., [min(R), max(R), min(PR), max(PR)], 1) \n",
      "plot(R + randn(len(R)), PR + randn(len(PR)), '.')\n",
      "#imshow(di[:, ::-1], extent=[min(R), max(R), min(PR), max(PR)])\n",
      "from sklearn import linear_model\n",
      "regr = linear_model.LinearRegression(fit_intercept=True)\n",
      "regr.fit(array(R, ndmin=2).T, array(PR, ndmin=2).T)\n",
      "plot(R, regr.predict(array(R, ndmin=2).T))"
     ],
     "language": "python",
     "metadata": {},
     "outputs": [
      {
       "metadata": {},
       "output_type": "pyout",
       "prompt_number": 20,
       "text": [
        "[<matplotlib.lines.Line2D at 0x7fa4f86693d0>]"
       ]
      },
      {
       "metadata": {},
       "output_type": "display_data",
       "png": "[encoded data removed]",
       "text": [
        "<matplotlib.figure.Figure at 0x7fa4cebd6b10>"
       ]
      }
     ],
     "prompt_number": 20
    },
    {
     "cell_type": "code",
     "collapsed": false,
     "input": [
      "from numpy import arange\n",
      "x = arange(-2, 2, 0.01)\n",
      "plot(x, tanh(x))"
     ],
     "language": "python",
     "metadata": {},
     "outputs": [
      {
       "metadata": {},
       "output_type": "pyout",
       "prompt_number": 6,
       "text": [
        "[<matplotlib.lines.Line2D at 0x7f2796c93810>]"
       ]
      },
      {
       "metadata": {},
       "output_type": "display_data",
       "png": "[encoded data removed]",
       "text": [
        "<matplotlib.figure.Figure at 0x7f2796fb5c50>"
       ]
      }
     ],
     "prompt_number": 6
    },
    {
     "cell_type": "code",
     "collapsed": false,
     "input": [
      "(array(R, ndmin=2).T).shape"
     ],
     "language": "python",
     "metadata": {},
     "outputs": [
      {
       "metadata": {},
       "output_type": "pyout",
       "prompt_number": 18,
       "text": [
        "(1211, 1)"
       ]
      }
     ],
     "prompt_number": 18
    },
    {
     "cell_type": "code",
     "collapsed": false,
     "input": [
      "v = zeros((100, 100))\n",
      "for i0, p0 in enumerate(linspace(0, 1, 100)):\n",
      "    for i1, p1 in enumerate(linspace(0, 1, 100)):\n",
      "        v[i0, i1] = agents[1].weights.dot(hstack((1., p0, p1)).T)\n",
      "        "
     ],
     "language": "python",
     "metadata": {},
     "outputs": [],
     "prompt_number": 21
    },
    {
     "cell_type": "code",
     "collapsed": false,
     "input": [
      "pres = array([expe.log[0]['presence'][t][1:] for t in range(n_runs)])"
     ],
     "language": "python",
     "metadata": {},
     "outputs": [],
     "prompt_number": 22
    },
    {
     "cell_type": "code",
     "collapsed": false,
     "input": [
      "%pylab inline\n",
      "imshow((1 + tanh(v.T[::-1, :]))/2., extent=[0, 1, 0, 1])\n",
      "plot(pres[-40:, 0], pres[-40:, 1])\n",
      "xlabel('P(a1)')\n",
      "ylabel('P(a2)')\n",
      "colorbar()"
     ],
     "language": "python",
     "metadata": {},
     "outputs": [
      {
       "output_type": "stream",
       "stream": "stdout",
       "text": [
        "Populating the interactive namespace from numpy and matplotlib\n"
       ]
      },
      {
       "output_type": "stream",
       "stream": "stderr",
       "text": [
        "WARNING: pylab import has clobbered these variables: ['colors', 'i0']\n",
        "`%matplotlib` prevents importing * from pylab and numpy\n"
       ]
      },
      {
       "metadata": {},
       "output_type": "pyout",
       "prompt_number": 23,
       "text": [
        "<matplotlib.colorbar.Colorbar instance at 0x7fa4cbbe5368>"
       ]
      },
      {
       "metadata": {},
       "output_type": "display_data",
       "png": "[encoded data removed]",
       "text": [
        "<matplotlib.figure.Figure at 0x7fa4cb8b51d0>"
       ]
      }
     ],
     "prompt_number": 23
    },
    {
     "cell_type": "code",
     "collapsed": false,
     "input": [
      "save('tt_logs.npy', expe.log)"
     ],
     "language": "python",
     "metadata": {},
     "outputs": [],
     "prompt_number": 24
    },
    {
     "cell_type": "code",
     "collapsed": false,
     "input": [
      "master_ag = agents[0]"
     ],
     "language": "python",
     "metadata": {},
     "outputs": [],
     "prompt_number": 18
    },
    {
     "cell_type": "code",
     "collapsed": false,
     "input": [
      "master_ag.force_voc_each = 8\n",
      "#agents[1].force_voc_each = 0"
     ],
     "language": "python",
     "metadata": {},
     "outputs": [],
     "prompt_number": 19
    },
    {
     "cell_type": "code",
     "collapsed": false,
     "input": [
      "for ag in agents:\n",
      "    ag.learn = True"
     ],
     "language": "python",
     "metadata": {},
     "outputs": [],
     "prompt_number": 89
    },
    {
     "cell_type": "code",
     "collapsed": false,
     "input": [
      "for ag in agents[1:]:\n",
      "    ag.force_voc_each = 0 # 100000000"
     ],
     "language": "python",
     "metadata": {},
     "outputs": [],
     "prompt_number": 90
    },
    {
     "cell_type": "code",
     "collapsed": false,
     "input": [
      "expe.run(80)"
     ],
     "language": "python",
     "metadata": {},
     "outputs": [],
     "prompt_number": 91
    },
    {
     "cell_type": "code",
     "collapsed": false,
     "input": [
      "agents[0].presence"
     ],
     "language": "python",
     "metadata": {},
     "outputs": [
      {
       "metadata": {},
       "output_type": "pyout",
       "prompt_number": 13,
       "text": [
        "array([ 1.,  1.,  1.,  1.])"
       ]
      }
     ],
     "prompt_number": 13
    },
    {
     "cell_type": "code",
     "collapsed": false,
     "input": [
      "(1 + dot(agents[0].weights, array([1., 0., 0.]).T))/2."
     ],
     "language": "python",
     "metadata": {},
     "outputs": [
      {
       "metadata": {},
       "output_type": "pyout",
       "prompt_number": 36,
       "text": [
        "0.54361568058853726"
       ]
      }
     ],
     "prompt_number": 36
    },
    {
     "cell_type": "code",
     "collapsed": false,
     "input": [
      "from numpy import tanh, arange\n",
      "x = array(range(100000))\n",
      "plot(x, (x+1)**(-0.1))"
     ],
     "language": "python",
     "metadata": {},
     "outputs": [
      {
       "metadata": {},
       "output_type": "pyout",
       "prompt_number": 19,
       "text": [
        "[<matplotlib.lines.Line2D at 0x7f6f72485290>]"
       ]
      },
      {
       "metadata": {},
       "output_type": "display_data",
       "png": "[encoded data removed]",
       "text": [
        "<matplotlib.figure.Figure at 0x7f6f722acc50>"
       ]
      }
     ],
     "prompt_number": 19
    },
    {
     "cell_type": "code",
     "collapsed": false,
     "input": [
      "duration = 0.1 # s"
     ],
     "language": "python",
     "metadata": {},
     "outputs": [],
     "prompt_number": 22
    },
    {
     "cell_type": "code",
     "collapsed": false,
     "input": [
      "import pygame\n",
      "import time\n",
      "import os\n",
      "\n",
      "\n",
      "class SoundPlayer(object):\n",
      "    def __init__(self, samplerate=44100):\n",
      "        pygame.mixer.init(frequency=samplerate)\n",
      "\n",
      "    def play(self, filename, wait=False):\n",
      "        if not os.path.exists(filename):\n",
      "            raise IOError(\"No such file or directory: '{}'\".format(filename))\n",
      "\n",
      "        s = pygame.mixer.Sound(filename)\n",
      "        s.set_volume(1.0)\n",
      "        length = s.get_length()\n",
      "\n",
      "        s.play(maxtime=int(duration * 1000))\n",
      "\n",
      "        if wait:\n",
      "            time.sleep(duration)\n",
      "\n",
      "        return 0.1\n",
      "\n",
      "\n",
      "class Sampler(object):\n",
      "    def __init__(self, sound_files, samplerate=44100):\n",
      "        self.player = SoundPlayer(samplerate)\n",
      "        self.sounds = sound_files\n",
      "\n",
      "    def play(self, i, wait=False):\n",
      "        return self.player.play(self.sounds[i], wait)\n",
      "\n",
      "    def multiple_plays(self, sound_ids, wait=False):\n",
      "        lengths = [self.play(i) for i in sound_ids]\n",
      "\n",
      "        if wait:\n",
      "            time.sleep(duration)"
     ],
     "language": "python",
     "metadata": {},
     "outputs": [],
     "prompt_number": 23
    },
    {
     "cell_type": "code",
     "collapsed": false,
     "input": [
      "sampler = Sampler(['./data/68437__pinkyfinger__piano-a.wav', './data/68442__pinkyfinger__piano-d.wav', './data/68444__pinkyfinger__piano-eb.wav', './data/68448__pinkyfinger__piano-g.wav'])"
     ],
     "language": "python",
     "metadata": {},
     "outputs": [],
     "prompt_number": 24
    },
    {
     "cell_type": "code",
     "collapsed": false,
     "input": [
      "for t in range(0, 20000): #0, 100) + range (10000, 10100) + range(26000, 26100): \n",
      "    voc_ags = []\n",
      "    for i_ag in range(n_ag):\n",
      "        if expe.log[i_ag]['motor'][t] is not None:\n",
      "            voc_ags.append(i_ag)\n",
      "    # print voc_ags\n",
      "    if voc_ags:\n",
      "        sampler.multiple_plays(voc_ags, wait=True)\n",
      "    else:\n",
      "        time.sleep(duration)\n",
      "    "
     ],
     "language": "python",
     "metadata": {},
     "outputs": [
      {
       "ename": "KeyboardInterrupt",
       "evalue": "",
       "output_type": "pyerr",
       "traceback": [
        "\u001b[1;31m---------------------------------------------------------------------------\u001b[0m\n\u001b[1;31mKeyboardInterrupt\u001b[0m                         Traceback (most recent call last)",
        "\u001b[1;32m<ipython-input-25-7c1cee99ead2>\u001b[0m in \u001b[0;36m<module>\u001b[1;34m()\u001b[0m\n\u001b[0;32m      8\u001b[0m         \u001b[0msampler\u001b[0m\u001b[1;33m.\u001b[0m\u001b[0mmultiple_plays\u001b[0m\u001b[1;33m(\u001b[0m\u001b[0mvoc_ags\u001b[0m\u001b[1;33m,\u001b[0m \u001b[0mwait\u001b[0m\u001b[1;33m=\u001b[0m\u001b[0mTrue\u001b[0m\u001b[1;33m)\u001b[0m\u001b[1;33m\u001b[0m\u001b[0m\n\u001b[0;32m      9\u001b[0m     \u001b[1;32melse\u001b[0m\u001b[1;33m:\u001b[0m\u001b[1;33m\u001b[0m\u001b[0m\n\u001b[1;32m---> 10\u001b[1;33m         \u001b[0mtime\u001b[0m\u001b[1;33m.\u001b[0m\u001b[0msleep\u001b[0m\u001b[1;33m(\u001b[0m\u001b[0mduration\u001b[0m\u001b[1;33m)\u001b[0m\u001b[1;33m\u001b[0m\u001b[0m\n\u001b[0m\u001b[0;32m     11\u001b[0m \u001b[1;33m\u001b[0m\u001b[0m\n",
        "\u001b[1;31mKeyboardInterrupt\u001b[0m: "
       ]
      }
     ],
     "prompt_number": 25
    },
    {
     "cell_type": "code",
     "collapsed": false,
     "input": [
      "range?"
     ],
     "language": "python",
     "metadata": {},
     "outputs": [],
     "prompt_number": 31
    },
    {
     "cell_type": "code",
     "collapsed": false,
     "input": [
      "sampler.play(0)"
     ],
     "language": "python",
     "metadata": {},
     "outputs": [
      {
       "metadata": {},
       "output_type": "pyout",
       "prompt_number": 45,
       "text": [
        "0.1"
       ]
      }
     ],
     "prompt_number": 45
    },
    {
     "cell_type": "code",
     "collapsed": false,
     "input": [
      "x = [0.3]\n",
      "d = 0.5\n",
      "for t in range(100):\n",
      "    dx = - d * x[-1]\n",
      "    x.append(x[-1] + dx)\n",
      "    if t % 1 == 0:\n",
      "        x[-1] += 1./3.    \n",
      "\n",
      "x2 = [0.3]\n",
      "for t in range(100):\n",
      "    dx2 = - d * x2[-1]\n",
      "    x2.append(x2[-1] + dx2)\n",
      "    if t % 3 == 0:\n",
      "        x2[-1] += 3./3."
     ],
     "language": "python",
     "metadata": {},
     "outputs": [],
     "prompt_number": 24
    },
    {
     "cell_type": "code",
     "collapsed": false,
     "input": [
      "plot(x)\n",
      "plot(x2)"
     ],
     "language": "python",
     "metadata": {},
     "outputs": [
      {
       "metadata": {},
       "output_type": "pyout",
       "prompt_number": 70,
       "text": [
        "[<matplotlib.lines.Line2D at 0x7f498ac7d810>]"
       ]
      },
      {
       "metadata": {},
       "output_type": "display_data",
       "png": "[encoded data removed]",
       "text": [
        "<matplotlib.figure.Figure at 0x7f498ac7d350>"
       ]
      }
     ],
     "prompt_number": 70
    },
    {
     "cell_type": "code",
     "collapsed": false,
     "input": [
      "from brian2 import *\n",
      "N = 4\n",
      "tau = 10*ms\n",
      "vr = -70*mV\n",
      "vt = -60*mV\n",
      "#eqs = '''\n",
      "#dv/dt = -v/tau : volt\n",
      "#'''\n",
      "eqs = '''\n",
      "dv/dt = 0 * mV/ms: volt\n",
      "'''\n",
      "M = NeuronGroup(1, eqs, threshold='v>vt', reset='v=vr')\n",
      "A = NeuronGroup(1, eqs, threshold='v>vt', reset='v=vr')\n",
      "D = NeuronGroup(1, \"dv/dt = -v/tau : volt\", threshold='v>vt', reset='v=vr')\n",
      "\n",
      "w = 1*mV\n",
      "S_MA = Synapses(M, A, pre='v += 30 * w')\n",
      "S_MD = Synapses(M, D, pre='v -= 8 * w')\n",
      "S_DA = Synapses(D, A, pre='v += w')\n",
      "S_AD = Synapses(A, D, pre='v -= 8 * w')\n",
      "S_DM = Synapses(D, M, pre='v += 4. * w')\n",
      "\n",
      "\n",
      "for s in [S_MA, S_MD, S_DA ,S_AD, S_DM]:\n",
      "    s.connect(True)\n",
      "    pass\n",
      "\n",
      "# Monitors\n",
      "\n",
      "M_mon = SpikeMonitor(M)\n",
      "A_mon = SpikeMonitor(A)\n",
      "D_mon = SpikeMonitor(D)\n",
      "\n",
      "M_trace = StateMonitor(M, 'v', record=0)\n",
      "A_trace = StateMonitor(A, 'v', record=0)\n",
      "D_trace = StateMonitor(D, 'v', record=0)\n",
      "\n",
      "# trace = StateMonitor(G, 'v', record=0)\n",
      "# Run\n",
      "run(0.05 * second)\n",
      "# Plot\n",
      "# plot(trace.t/ms, trace.v.T)\n",
      "# show()"
     ],
     "language": "python",
     "metadata": {},
     "outputs": [
      {
       "metadata": {},
       "output_type": "pyout",
       "prompt_number": 31,
       "text": [
        "array([ 0.,  0.,  0.])"
       ]
      }
     ],
     "prompt_number": 31
    }
   ],
   "metadata": {}
  }
 ]
}