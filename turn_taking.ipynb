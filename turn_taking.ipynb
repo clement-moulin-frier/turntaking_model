{
 "metadata": {
  "name": "",
  "signature": "sha256:34d89889d1bdf46541a1c5f56ca66850655164a2db6425c1a2557c41b063c2a3"
 },
 "nbformat": 3,
 "nbformat_minor": 0,
 "worksheets": [
  {
   "cells": [
    {
     "cell_type": "heading",
     "level": 1,
     "metadata": {},
     "source": [
      "Autonomous development of turn-taking behaviors in agent populations: a computational study"
     ]
    },
    {
     "cell_type": "markdown",
     "metadata": {},
     "source": [
      "This notebook shows how to run the code related to our paper recently submitted to the ICDL-Epirob 2015 conference.\n",
      "\n",
      "First instanciate the agent population of the experiment:"
     ]
    },
    {
     "cell_type": "code",
     "collapsed": false,
     "input": [
      "from agent import ModularAgent\n",
      "from experiment import Experiment\n",
      "\n",
      "# number of agents in the population\n",
      "n_ag = 2\n",
      "\n",
      "# agent parameters: \n",
      "# i is the agent id, \n",
      "# the two following parameters are the mean and variance of their specific vocalization feature \n",
      "# (ie the auditory feature provided to the adaptive layer)\n",
      "ag_voc_params = []\n",
      "for i in range(n_ag):\n",
      "    ag_voc_params.append((i, [- n_ag / 2. + i], [[0.0001]])) \n",
      "    \n",
      "# Instanciate an experiment with those agents\n",
      "expe = Experiment([ModularAgent(ag_voc_params, i) for i, _ in enumerate(ag_voc_params)])"
     ],
     "language": "python",
     "metadata": {},
     "outputs": [],
     "prompt_number": 1
    },
    {
     "cell_type": "markdown",
     "metadata": {},
     "source": [
      "Let's start with reactive agents by disabling their adaptive layer (Section III-B of the paper):"
     ]
    },
    {
     "cell_type": "code",
     "collapsed": false,
     "input": [
      "for ag in expe.ags:\n",
      "    ag.adapt = False"
     ],
     "language": "python",
     "metadata": {},
     "outputs": [],
     "prompt_number": 2
    },
    {
     "cell_type": "markdown",
     "metadata": {},
     "source": [
      "Then run the experiment, ie the agent interactions, during a number of time steps:"
     ]
    },
    {
     "cell_type": "code",
     "collapsed": false,
     "input": [
      "# Run the experiment for 100 time steps\n",
      "expe.run(100)"
     ],
     "language": "python",
     "metadata": {},
     "outputs": [],
     "prompt_number": 3
    },
    {
     "cell_type": "markdown",
     "metadata": {},
     "source": [
      "Then plot the results in figures. We use the [seaborn library](http://stanford.edu/~mwaskom/software/seaborn/) that you need to install on your system to be able to generate the figures. Figures are plotted into pdf files in the root repository directory."
     ]
    },
    {
     "cell_type": "code",
     "collapsed": false,
     "input": [
      "# import figure generation classes\n",
      "import sys\n",
      "sys.path.append('figure_generation')\n",
      "from figure_generation import Reactive, Adaptive, ActionPolicy, RewardStat, sns"
     ],
     "language": "python",
     "metadata": {},
     "outputs": [],
     "prompt_number": 4
    },
    {
     "cell_type": "markdown",
     "metadata": {},
     "source": [
      "Figure 2 of the paper regarding the reactive layer results:"
     ]
    },
    {
     "cell_type": "code",
     "collapsed": false,
     "input": [
      "# Set formatting figure parameters (fontsize etc...)\n",
      "sns.set_context(\"paper\", font_scale=2.3, rc={\"lines.markersize\": 8., \"lines.linewidth\": 4.})\n",
      "\n",
      "# generate the figure in pdf from the Experiment instance:\n",
      "fig_gen = Reactive(expe)\n",
      "fig_gen.generate('reactive.pdf')"
     ],
     "language": "python",
     "metadata": {},
     "outputs": [],
     "prompt_number": 5
    },
    {
     "cell_type": "markdown",
     "metadata": {},
     "source": [
      "Now let's run an experiment with adaptive agents (Section III-C of the paper). First delete the previous one:"
     ]
    },
    {
     "cell_type": "code",
     "collapsed": false,
     "input": [
      "for ag in expe.ags:\n",
      "    del ag\n",
      "del expe"
     ],
     "language": "python",
     "metadata": {},
     "outputs": [],
     "prompt_number": 6
    },
    {
     "cell_type": "markdown",
     "metadata": {},
     "source": [
      "And instanciate a new experiment without using the same vocalization parameters but without disabling the adaptive layer of the agents: "
     ]
    },
    {
     "cell_type": "code",
     "collapsed": false,
     "input": [
      "# Instanciate an experiment with those agents\n",
      "expe = Experiment([ModularAgent(ag_voc_params, i) for i, _ in enumerate(ag_voc_params)])"
     ],
     "language": "python",
     "metadata": {},
     "outputs": [],
     "prompt_number": 7
    },
    {
     "cell_type": "markdown",
     "metadata": {},
     "source": [
      "Run this new experiment on a (higher) number of time steps"
     ]
    },
    {
     "cell_type": "code",
     "collapsed": false,
     "input": [
      "# Run the experiment for 11000 time steps\n",
      "expe.run(11000)"
     ],
     "language": "python",
     "metadata": {},
     "outputs": [],
     "prompt_number": 8
    },
    {
     "cell_type": "markdown",
     "metadata": {},
     "source": [
      "Generate Figure 3 of the paper regarding the adaptive layer results:"
     ]
    },
    {
     "cell_type": "code",
     "collapsed": false,
     "input": [
      "# Set formatting figure parameters (fontsize etc...)\n",
      "sns.set_context(\"paper\", font_scale=2.3, rc={\"lines.markersize\": 8., \"lines.linewidth\": 4.})\n",
      "\n",
      "# generate the figure in pdf from the Experiment instance:\n",
      "fig_gen = Adaptive(expe)\n",
      "fig_gen.generate('adaptive.pdf')"
     ],
     "language": "python",
     "metadata": {},
     "outputs": [],
     "prompt_number": 9
    },
    {
     "cell_type": "markdown",
     "metadata": {},
     "source": [
      "Figure 4 of the paper regarding the learned action policies:"
     ]
    },
    {
     "cell_type": "code",
     "collapsed": false,
     "input": [
      "# Set formatting figure parameters (fontsize etc...)\n",
      "sns.set_context(\"paper\", font_scale=1.5, rc={\"lines.markersize\": 8., \"lines.linewidth\": 4.})\n",
      "\n",
      "# generate the figure in pdf from the Experiment instance:\n",
      "fig_gen = ActionPolicy(expe)\n",
      "fig_gen.generate('policy.pdf')"
     ],
     "language": "python",
     "metadata": {},
     "outputs": [],
     "prompt_number": 10
    },
    {
     "cell_type": "markdown",
     "metadata": {},
     "source": [
      "Finally lets run more experiments with more agents to check whether the model performances are robust (Figure 5 of the paper).\n",
      "\n",
      "First delete the previous experiment:"
     ]
    },
    {
     "cell_type": "code",
     "collapsed": false,
     "input": [
      "for ag in expe.ags:\n",
      "    del ag\n",
      "del expe"
     ],
     "language": "python",
     "metadata": {},
     "outputs": [],
     "prompt_number": 11
    },
    {
     "cell_type": "markdown",
     "metadata": {},
     "source": [
      "And create a number of identical and independent experiments (let's begin with 2-agent populations as above):"
     ]
    },
    {
     "cell_type": "code",
     "collapsed": false,
     "input": [
      "# Number of experiments\n",
      "n_expe = 10\n",
      "\n",
      "# Instanciations\n",
      "expes = []\n",
      "for i in range(n_expe):\n",
      "    expes.append(Experiment([ModularAgent(ag_voc_params, i) for i, _ in enumerate(ag_voc_params)]))"
     ],
     "language": "python",
     "metadata": {},
     "outputs": [],
     "prompt_number": 12
    },
    {
     "cell_type": "markdown",
     "metadata": {},
     "source": [
      "Run all of them (the $bg=True$ argument allows to run them in parallel):"
     ]
    },
    {
     "cell_type": "code",
     "collapsed": false,
     "input": [
      "for expe in expes:\n",
      "    expe.run(11000, bg=True)"
     ],
     "language": "python",
     "metadata": {},
     "outputs": [],
     "prompt_number": 13
    },
    {
     "cell_type": "markdown",
     "metadata": {},
     "source": [
      "Wait for all the experiments to terminate (it can take a way, say up to 10mn):"
     ]
    },
    {
     "cell_type": "code",
     "collapsed": false,
     "input": [
      "for expe in expes:\n",
      "    expe.wait()"
     ],
     "language": "python",
     "metadata": {},
     "outputs": [],
     "prompt_number": 14
    },
    {
     "cell_type": "markdown",
     "metadata": {},
     "source": [
      "Save the logs of these 2-agent experiments:"
     ]
    },
    {
     "cell_type": "code",
     "collapsed": false,
     "input": [
      "expe_logs = [expe.log for expe in expes]\n",
      "import cPickle as pickle\n",
      "pickle.dump(expe_logs, open('expe_logs_2ag.pickle', 'wb'))"
     ],
     "language": "python",
     "metadata": {},
     "outputs": [],
     "prompt_number": 15
    },
    {
     "cell_type": "markdown",
     "metadata": {},
     "source": [
      "And delete the experiments:"
     ]
    },
    {
     "cell_type": "code",
     "collapsed": false,
     "input": [
      "for expe in expes:\n",
      "    for ag in expe.ags:\n",
      "        del ag\n",
      "    del expe\n",
      "del expes"
     ],
     "language": "python",
     "metadata": {},
     "outputs": [],
     "prompt_number": 16
    },
    {
     "cell_type": "markdown",
     "metadata": {},
     "source": [
      "Now do the same with 3-agent populations:"
     ]
    },
    {
     "cell_type": "code",
     "collapsed": false,
     "input": [
      "n_ag = 3\n",
      "\n",
      "# agent vocalization parameters\n",
      "ag_voc_params = []\n",
      "for i in range(n_ag):\n",
      "    ag_voc_params.append((i, [- n_ag / 2. + i], [[0.0001]])) \n",
      "    \n",
      "# Instanciatite the 3-agent experiments\n",
      "expes = []\n",
      "for i in range(n_expe):\n",
      "    expes.append(Experiment([ModularAgent(ag_voc_params, i) for i, _ in enumerate(ag_voc_params)]))"
     ],
     "language": "python",
     "metadata": {},
     "outputs": []
    },
    {
     "cell_type": "markdown",
     "metadata": {},
     "source": [
      "Run all of them and wait (it can take a while again, even more due to the higher number of agents and time steps):"
     ]
    },
    {
     "cell_type": "code",
     "collapsed": false,
     "input": [
      "for expe in expes:\n",
      "    expe.run(30000, bg=True)\n",
      "    \n",
      "for expe in expes:\n",
      "    expe.wait()"
     ],
     "language": "python",
     "metadata": {},
     "outputs": []
    },
    {
     "cell_type": "markdown",
     "metadata": {},
     "source": [
      "Save the logs of these 3-agent experiments:"
     ]
    },
    {
     "cell_type": "code",
     "collapsed": false,
     "input": [
      "expe_logs = [expe.log for expe in expes]"
     ],
     "language": "python",
     "metadata": {},
     "outputs": []
    },
    {
     "cell_type": "markdown",
     "metadata": {},
     "source": [
      "Finally, generate Figure 5 of the paper from the saved logs (it can take a lot of RAM, please check you have enough free memory to avoid freezing):"
     ]
    },
    {
     "cell_type": "code",
     "collapsed": false,
     "input": [
      "# Set formatting figure parameters (fontsize etc...)\n",
      "sns.set_context(\"paper\", font_scale=2., rc={\"lines.markersize\": 8., \"lines.linewidth\": 4.})\n",
      "\n",
      "# load the saved log for 2-agent experiments\n",
      "import cPickle as pickle\n",
      "expe_logs_2ag = pickle.load(open('expe_logs_2ag.pickle', 'rb'))\n",
      "\n",
      "# rename the logs for 3-agent experiments\n",
      "expe_logs_3ag = expe_logs\n",
      "\n",
      "# generate the figure in pdf from the Experiment instance:\n",
      "fig_gen = RewardStat(expe_logs_2ag, expe_logs_3ag)\n",
      "fig_gen.generate('reward_stat.pdf')"
     ],
     "language": "python",
     "metadata": {},
     "outputs": []
    }
   ],
   "metadata": {}
  }
 ]
}