{
 "metadata": {
  "name": "",
  "signature": "sha256:779140f5b6d573a9265d660a18d2eb3d62c62e414513cc00917522b237870363"
 },
 "nbformat": 3,
 "nbformat_minor": 0,
 "worksheets": [
  {
   "cells": [
    {
     "cell_type": "code",
     "collapsed": false,
     "input": [
      "from sklearn.mixture import GMM"
     ],
     "language": "python",
     "metadata": {},
     "outputs": [],
     "prompt_number": 1
    },
    {
     "cell_type": "code",
     "collapsed": false,
     "input": [
      "n_ag = 3"
     ],
     "language": "python",
     "metadata": {},
     "outputs": [],
     "prompt_number": 2
    },
    {
     "cell_type": "code",
     "collapsed": false,
     "input": [
      "ag_voc_params = []\n",
      "for i in range(n_ag):\n",
      "    ag_voc_params.append((i, [- n_ag / 2. + i], [[0.01]])) \n",
      "# ag_voc_params = ((0, [-2.], [[0.01]]), (1, [0.], [[0.01]])) #, (2, [2.], [[0.01]]))"
     ],
     "language": "python",
     "metadata": {},
     "outputs": [],
     "prompt_number": 3
    },
    {
     "cell_type": "code",
     "collapsed": false,
     "input": [
      "gmm = GMM(n_ag, covariance_type='full')"
     ],
     "language": "python",
     "metadata": {},
     "outputs": [],
     "prompt_number": 4
    },
    {
     "cell_type": "code",
     "collapsed": false,
     "input": [
      "gmm.n_components"
     ],
     "language": "python",
     "metadata": {},
     "outputs": [
      {
       "metadata": {},
       "output_type": "pyout",
       "prompt_number": 5,
       "text": [
        "3"
       ]
      }
     ],
     "prompt_number": 5
    },
    {
     "cell_type": "code",
     "collapsed": false,
     "input": [
      "from numpy import array\n",
      "gmm.means_, gmm.covars_ = array([voc[1] for voc in ag_voc_params]), array([voc[2] for voc in ag_voc_params])\n",
      "gmm.weights_ = array([1./n_ag] * n_ag)\n"
     ],
     "language": "python",
     "metadata": {},
     "outputs": [],
     "prompt_number": 6
    },
    {
     "cell_type": "code",
     "collapsed": false,
     "input": [
      "from agent import Agent"
     ],
     "language": "python",
     "metadata": {},
     "outputs": [],
     "prompt_number": 7
    },
    {
     "cell_type": "code",
     "collapsed": false,
     "input": [
      "agents = [Agent(*args, gmm=gmm) for i, args in enumerate(ag_voc_params)]"
     ],
     "language": "python",
     "metadata": {},
     "outputs": [],
     "prompt_number": 8
    },
    {
     "cell_type": "code",
     "collapsed": false,
     "input": [
      "from experiment import Experiment"
     ],
     "language": "python",
     "metadata": {},
     "outputs": [],
     "prompt_number": 9
    },
    {
     "cell_type": "code",
     "collapsed": false,
     "input": [
      "expe = Experiment(agents)"
     ],
     "language": "python",
     "metadata": {},
     "outputs": [],
     "prompt_number": 10
    },
    {
     "cell_type": "code",
     "collapsed": false,
     "input": [
      "# agents[2].produce()"
     ],
     "language": "python",
     "metadata": {},
     "outputs": [],
     "prompt_number": 11
    },
    {
     "cell_type": "code",
     "collapsed": false,
     "input": [
      "#import pdb\n",
      "#pdb.run(\"expe.run(40)\")\n",
      "expe.run(40000)"
     ],
     "language": "python",
     "metadata": {},
     "outputs": []
    },
    {
     "cell_type": "code",
     "collapsed": false,
     "input": [
      "%pylab inline\n",
      "colors = ['r', 'g', 'b', 'm'] * 3\n",
      "n_runs = len(expe.log[0][\"motor\"])\n",
      "overlapping = [0, 0, 0]\n",
      "for t in range(n_runs - 40, n_runs):\n",
      "    if t >= 0:\n",
      "        for i_ag in range(n_ag):\n",
      "            subplot(411)\n",
      "            plot(t, expe.log[i_ag]['motor'][t], 'o', color=colors[i_ag])\n",
      "            subplot(412)\n",
      "            plot(t, expe.log[i_ag]['presence'][t][i_ag], 'o', color=colors[i_ag])\n",
      "            # plot(expe.log[i_ag]['presence'][t][0], expe.log[i_ag]['presence'][t][1], 'o', color=colors[i_ag])\n",
      "            #axis([0, 1, 0, 1])\n",
      "            #axis('equal')\n",
      "            subplot(413)\n",
      "            plot(t, expe.log[i_ag]['gradient'][t], 'o', color='k')\n",
      "            plot(t, expe.log[i_ag]['activation'][t], 'o', color=colors[i_ag])\n",
      "            subplot(414)\n",
      "            if t > 200:\n",
      "                overlapping = sum([int(sum([int(expe.log[ii_ag]['motor'][t - 200 + tt] is None) for ii_ag in range(n_ag)]) == 1) for tt in range(200)]) / 200.         \n",
      "                plot(t, overlapping, '*')\n",
      "        "
     ],
     "language": "python",
     "metadata": {},
     "outputs": []
    },
    {
     "cell_type": "code",
     "collapsed": false,
     "input": [
      "agents[1].weights"
     ],
     "language": "python",
     "metadata": {},
     "outputs": [
      {
       "metadata": {},
       "output_type": "pyout",
       "prompt_number": 14,
       "text": [
        "array([ 0.0695735 , -0.04090672,  0.12228499, -0.04164567,  0.06751784,\n",
        "        0.05900487,  0.00923534])"
       ]
      }
     ],
     "prompt_number": 14
    },
    {
     "cell_type": "code",
     "collapsed": false,
     "input": [
      "from numpy import tanh, arange\n",
      "x = arange(-10, 10, 0.1)\n",
      "plot(x, tanh(x))"
     ],
     "language": "python",
     "metadata": {},
     "outputs": [
      {
       "metadata": {},
       "output_type": "pyout",
       "prompt_number": 15,
       "text": [
        "[<matplotlib.lines.Line2D at 0x7fa21adb7a10>]"
       ]
      },
      {
       "metadata": {},
       "output_type": "display_data",
       "png": "[encoded data removed]",
       "text": [
        "<matplotlib.figure.Figure at 0x7fa21dd09310>"
       ]
      }
     ],
     "prompt_number": 15
    },
    {
     "cell_type": "code",
     "collapsed": false,
     "input": [
      "duration = 0.1 # s"
     ],
     "language": "python",
     "metadata": {},
     "outputs": [],
     "prompt_number": 22
    },
    {
     "cell_type": "code",
     "collapsed": false,
     "input": [
      "import pygame\n",
      "import time\n",
      "import os\n",
      "\n",
      "\n",
      "class SoundPlayer(object):\n",
      "    def __init__(self, samplerate=44100):\n",
      "        pygame.mixer.init(frequency=samplerate)\n",
      "\n",
      "    def play(self, filename, wait=False):\n",
      "        if not os.path.exists(filename):\n",
      "            raise IOError(\"No such file or directory: '{}'\".format(filename))\n",
      "\n",
      "        s = pygame.mixer.Sound(filename)\n",
      "        s.set_volume(1.0)\n",
      "        length = s.get_length()\n",
      "\n",
      "        s.play(maxtime=int(duration * 1000))\n",
      "\n",
      "        if wait:\n",
      "            time.sleep(duration)\n",
      "\n",
      "        return 0.1\n",
      "\n",
      "\n",
      "class Sampler(object):\n",
      "    def __init__(self, sound_files, samplerate=44100):\n",
      "        self.player = SoundPlayer(samplerate)\n",
      "        self.sounds = sound_files\n",
      "\n",
      "    def play(self, i, wait=False):\n",
      "        return self.player.play(self.sounds[i], wait)\n",
      "\n",
      "    def multiple_plays(self, sound_ids, wait=False):\n",
      "        lengths = [self.play(i) for i in sound_ids]\n",
      "\n",
      "        if wait:\n",
      "            time.sleep(duration)"
     ],
     "language": "python",
     "metadata": {},
     "outputs": [],
     "prompt_number": 23
    },
    {
     "cell_type": "code",
     "collapsed": false,
     "input": [
      "sampler = Sampler(['./data/68437__pinkyfinger__piano-a.wav', './data/68442__pinkyfinger__piano-d.wav', './data/68444__pinkyfinger__piano-eb.wav'])"
     ],
     "language": "python",
     "metadata": {},
     "outputs": [],
     "prompt_number": 26
    },
    {
     "cell_type": "code",
     "collapsed": false,
     "input": [
      "for t in range(0, n_runs, 1):\n",
      "    voc_ags = []\n",
      "    for i_ag in range(n_ag):\n",
      "        if expe.log[i_ag]['motor'][t] is not None:\n",
      "            voc_ags.append(i_ag)\n",
      "    # print voc_ags\n",
      "    if voc_ags:\n",
      "        sampler.multiple_plays(voc_ags, wait=True)\n",
      "    else:\n",
      "        time.sleep(duration)\n",
      "    "
     ],
     "language": "python",
     "metadata": {},
     "outputs": [
      {
       "ename": "KeyboardInterrupt",
       "evalue": "",
       "output_type": "pyerr",
       "traceback": [
        "\u001b[1;31m---------------------------------------------------------------------------\u001b[0m\n\u001b[1;31mKeyboardInterrupt\u001b[0m                         Traceback (most recent call last)",
        "\u001b[1;32m<ipython-input-29-19ac68900cba>\u001b[0m in \u001b[0;36m<module>\u001b[1;34m()\u001b[0m\n\u001b[0;32m      6\u001b[0m     \u001b[1;31m# print voc_ags\u001b[0m\u001b[1;33m\u001b[0m\u001b[1;33m\u001b[0m\u001b[0m\n\u001b[0;32m      7\u001b[0m     \u001b[1;32mif\u001b[0m \u001b[0mvoc_ags\u001b[0m\u001b[1;33m:\u001b[0m\u001b[1;33m\u001b[0m\u001b[0m\n\u001b[1;32m----> 8\u001b[1;33m         \u001b[0msampler\u001b[0m\u001b[1;33m.\u001b[0m\u001b[0mmultiple_plays\u001b[0m\u001b[1;33m(\u001b[0m\u001b[0mvoc_ags\u001b[0m\u001b[1;33m,\u001b[0m \u001b[0mwait\u001b[0m\u001b[1;33m=\u001b[0m\u001b[0mTrue\u001b[0m\u001b[1;33m)\u001b[0m\u001b[1;33m\u001b[0m\u001b[0m\n\u001b[0m\u001b[0;32m      9\u001b[0m     \u001b[1;32melse\u001b[0m\u001b[1;33m:\u001b[0m\u001b[1;33m\u001b[0m\u001b[0m\n\u001b[0;32m     10\u001b[0m         \u001b[0mtime\u001b[0m\u001b[1;33m.\u001b[0m\u001b[0msleep\u001b[0m\u001b[1;33m(\u001b[0m\u001b[0mduration\u001b[0m\u001b[1;33m)\u001b[0m\u001b[1;33m\u001b[0m\u001b[0m\n",
        "\u001b[1;32m<ipython-input-23-950a0675b035>\u001b[0m in \u001b[0;36mmultiple_plays\u001b[1;34m(self, sound_ids, wait)\u001b[0m\n\u001b[0;32m     36\u001b[0m \u001b[1;33m\u001b[0m\u001b[0m\n\u001b[0;32m     37\u001b[0m         \u001b[1;32mif\u001b[0m \u001b[0mwait\u001b[0m\u001b[1;33m:\u001b[0m\u001b[1;33m\u001b[0m\u001b[0m\n\u001b[1;32m---> 38\u001b[1;33m             \u001b[0mtime\u001b[0m\u001b[1;33m.\u001b[0m\u001b[0msleep\u001b[0m\u001b[1;33m(\u001b[0m\u001b[0mduration\u001b[0m\u001b[1;33m)\u001b[0m\u001b[1;33m\u001b[0m\u001b[0m\n\u001b[0m",
        "\u001b[1;31mKeyboardInterrupt\u001b[0m: "
       ]
      }
     ],
     "prompt_number": 29
    },
    {
     "cell_type": "code",
     "collapsed": false,
     "input": [
      "range?"
     ],
     "language": "python",
     "metadata": {},
     "outputs": [],
     "prompt_number": 31
    },
    {
     "cell_type": "code",
     "collapsed": false,
     "input": [
      "sampler.play(0)"
     ],
     "language": "python",
     "metadata": {},
     "outputs": [
      {
       "metadata": {},
       "output_type": "pyout",
       "prompt_number": 45,
       "text": [
        "0.1"
       ]
      }
     ],
     "prompt_number": 45
    },
    {
     "cell_type": "code",
     "collapsed": false,
     "input": [
      "x = [0.3]\n",
      "d = 0.5\n",
      "for t in range(100):\n",
      "    dx = - d * x[-1]\n",
      "    x.append(x[-1] + dx)\n",
      "    if t % 1 == 0:\n",
      "        x[-1] += 1./3.    \n",
      "\n",
      "x2 = [0.3]\n",
      "for t in range(100):\n",
      "    dx2 = - d * x2[-1]\n",
      "    x2.append(x2[-1] + dx2)\n",
      "    if t % 3 == 0:\n",
      "        x2[-1] += 3./3."
     ],
     "language": "python",
     "metadata": {},
     "outputs": [],
     "prompt_number": 24
    },
    {
     "cell_type": "code",
     "collapsed": false,
     "input": [
      "plot(x)\n",
      "plot(x2)"
     ],
     "language": "python",
     "metadata": {},
     "outputs": [
      {
       "metadata": {},
       "output_type": "pyout",
       "prompt_number": 70,
       "text": [
        "[<matplotlib.lines.Line2D at 0x7f498ac7d810>]"
       ]
      },
      {
       "metadata": {},
       "output_type": "display_data",
       "png": "[encoded data removed]",
       "text": [
        "<matplotlib.figure.Figure at 0x7f498ac7d350>"
       ]
      }
     ],
     "prompt_number": 70
    },
    {
     "cell_type": "code",
     "collapsed": false,
     "input": [
      "from brian2 import *\n",
      "N = 4\n",
      "tau = 10*ms\n",
      "vr = -70*mV\n",
      "vt = -60*mV\n",
      "#eqs = '''\n",
      "#dv/dt = -v/tau : volt\n",
      "#'''\n",
      "eqs = '''\n",
      "dv/dt = 0 * mV/ms: volt\n",
      "'''\n",
      "M = NeuronGroup(1, eqs, threshold='v>vt', reset='v=vr')\n",
      "A = NeuronGroup(1, eqs, threshold='v>vt', reset='v=vr')\n",
      "D = NeuronGroup(1, \"dv/dt = -v/tau : volt\", threshold='v>vt', reset='v=vr')\n",
      "\n",
      "w = 1*mV\n",
      "S_MA = Synapses(M, A, pre='v += 30 * w')\n",
      "S_MD = Synapses(M, D, pre='v -= 8 * w')\n",
      "S_DA = Synapses(D, A, pre='v += w')\n",
      "S_AD = Synapses(A, D, pre='v -= 8 * w')\n",
      "S_DM = Synapses(D, M, pre='v += 4. * w')\n",
      "\n",
      "\n",
      "for s in [S_MA, S_MD, S_DA ,S_AD, S_DM]:\n",
      "    s.connect(True)\n",
      "    pass\n",
      "\n",
      "# Monitors\n",
      "\n",
      "M_mon = SpikeMonitor(M)\n",
      "A_mon = SpikeMonitor(A)\n",
      "D_mon = SpikeMonitor(D)\n",
      "\n",
      "M_trace = StateMonitor(M, 'v', record=0)\n",
      "A_trace = StateMonitor(A, 'v', record=0)\n",
      "D_trace = StateMonitor(D, 'v', record=0)\n",
      "\n",
      "# trace = StateMonitor(G, 'v', record=0)\n",
      "# Run\n",
      "run(0.05 * second)\n",
      "# Plot\n",
      "# plot(trace.t/ms, trace.v.T)\n",
      "# show()"
     ],
     "language": "python",
     "metadata": {},
     "outputs": [
      {
       "metadata": {},
       "output_type": "pyout",
       "prompt_number": 31,
       "text": [
        "array([ 0.,  0.,  0.])"
       ]
      }
     ],
     "prompt_number": 31
    }
   ],
   "metadata": {}
  }
 ]
}